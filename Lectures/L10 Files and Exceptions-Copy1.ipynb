{
 "cells": [
  {
   "cell_type": "markdown",
   "id": "20e482ab",
   "metadata": {},
   "source": [
    "-----\n",
    "\n",
    "## Homework Problems"
   ]
  },
  {
   "cell_type": "markdown",
   "id": "a2eeddc0",
   "metadata": {},
   "source": [
    "**10-1. Learning Python:** Open a blank file in your text editor and write a few lines summarizing what you've learned about Python so far. Start each line with the phrase *In Python you can...* . Save the file as *learning_python.txt* in the same directory as this notebook. Write a program that reads the file and prints what you wrote three times. Print the contents once by reading in the entire file, once by looping over the file object, and once by storing the lines in a list and then working with them outside the `with` block."
   ]
  },
  {
   "cell_type": "code",
   "execution_count": 1,
   "id": "36700fb3",
   "metadata": {},
   "outputs": [
    {
     "name": "stdout",
     "output_type": "stream",
     "text": [
      "In Python you can create dictionaries. \n",
      "In Python you can generate random numbers. \n",
      "In Python you can make the computer do math for you. \n",
      "In Python you can create dictionaries.\n",
      "In Python you can generate random numbers.\n",
      "In Python you can make the computer do math for you.\n",
      "In Python you can create dictionaries.\n",
      "In Python you can generate random numbers.\n",
      "In Python you can make the computer do math for you.\n"
     ]
    }
   ],
   "source": [
    "filename = 'learning_python.txt'\n",
    "\n",
    "with open(filename, 'r') as f:\n",
    "    text = f.read()\n",
    "    print(text)\n",
    "    \n",
    "with open(filename, 'r') as f: \n",
    "    for line in f:\n",
    "        print(line.strip())\n",
    "        \n",
    "with open(filename, 'r') as f:\n",
    "    lines = f.readlines()\n",
    "    \n",
    "for line in lines:\n",
    "    print(line.strip())"
   ]
  },
  {
   "cell_type": "markdown",
   "id": "d536ae84",
   "metadata": {},
   "source": [
    "**10-2. Learning C:** You can use the `replace()` method to replace any word in a string with a different word. Here's a quick example showing how to replace 'dog' with 'cat' in a sentence:\n",
    "\n",
    "    message = \"I really like dogs.\"\n",
    "    message.replace('dog','cat')\n",
    "    'I really like cats.'\n",
    "   \n",
    "Read in each line from the file you just created, *learning_python.txt*, and replace the word *Python* with the name of another language, such as *C*. Print each modified line to the screen."
   ]
  },
  {
   "cell_type": "code",
   "execution_count": 2,
   "id": "d9f9c34e",
   "metadata": {},
   "outputs": [
    {
     "name": "stdout",
     "output_type": "stream",
     "text": [
      "In C you can create dictionaries.\n",
      "In C you can generate random numbers.\n",
      "In C you can make the computer do math for you.\n"
     ]
    }
   ],
   "source": [
    "with open(filename, 'r') as f:\n",
    "    lines = f.readlines()\n",
    "    \n",
    "for line in lines:\n",
    "    print(line.replace('Python', 'C').strip())"
   ]
  },
  {
   "cell_type": "markdown",
   "id": "908fbf83",
   "metadata": {},
   "source": [
    "**10-3. Guest:** Write a program that prompts the user for their name. When they respond, write their name to a file called *guest.txt*"
   ]
  },
  {
   "cell_type": "code",
   "execution_count": 3,
   "id": "12030a29",
   "metadata": {},
   "outputs": [
    {
     "name": "stdout",
     "output_type": "stream",
     "text": [
      "What is your name? \n",
      "Andrew\n"
     ]
    }
   ],
   "source": [
    "name = input(\"What is your name? \\n\")\n",
    "\n",
    "with open('guest.txt', 'w') as f:\n",
    "    f.write(name)"
   ]
  },
  {
   "cell_type": "markdown",
   "id": "791107b5",
   "metadata": {},
   "source": [
    "**10-4. Guest Book:** Write a `while` loop that prompts users for their name. When they enter their name, print a greeting to the screen and add a line recording their visit in a file called *guest_book.txt*. Make sure each entry appears on a new line in the file."
   ]
  },
  {
   "cell_type": "code",
   "execution_count": 4,
   "id": "0bc8678c",
   "metadata": {},
   "outputs": [
    {
     "name": "stdout",
     "output_type": "stream",
     "text": [
      "What is your name (type 'q' to quit)? \n",
      "Andrew\n",
      "Hello Andrew!\n",
      "What is your name (type 'q' to quit)? \n",
      "q\n"
     ]
    }
   ],
   "source": [
    "while True:\n",
    "    name = input(\"What is your name (type 'q' to quit)? \\n\")\n",
    "    \n",
    "    if name == 'q':\n",
    "        break\n",
    "    \n",
    "    print(f\"Hello {name.title()}!\")\n",
    "        \n",
    "    with open('guest_book.txt', 'a') as f:\n",
    "        f.write(f\"{name} \\n\") # make sure each entry is on a new line!"
   ]
  },
  {
   "cell_type": "markdown",
   "id": "95f75a02",
   "metadata": {},
   "source": [
    "**10-5. Programming Poll:** Write a `while` loop that asks people why they like programming. Each time someone enters a reason, add their reason to a file that stores all the responses."
   ]
  },
  {
   "cell_type": "code",
   "execution_count": 5,
   "id": "53b35f56",
   "metadata": {},
   "outputs": [
    {
     "name": "stdout",
     "output_type": "stream",
     "text": [
      "Why do you like programming (answer 'q' to quit)? \n",
      "Because it's cool\n",
      "Why do you like programming (answer 'q' to quit)? \n",
      "Because I want to \n",
      "Why do you like programming (answer 'q' to quit)? \n",
      "q\n"
     ]
    }
   ],
   "source": [
    "while True:\n",
    "    why = input(\"Why do you like programming (answer 'q' to quit)? \\n\")\n",
    "    \n",
    "    if why == 'q':\n",
    "        break\n",
    "        \n",
    "    with open('why.txt', 'a') as f:\n",
    "        f.write(f\"{why} \\n\")"
   ]
  },
  {
   "cell_type": "markdown",
   "id": "68437c77",
   "metadata": {},
   "source": [
    "**10-6. Addition**: One common problem when prompting for numerical input occurs when people provide text instead of numbers. When you try to convert the input to an `int`, you'll get a `ValueError`. Write a program that prompts for two numbers. Add them together and print the result. Cath the `ValueError` if either input value is not a number, and print a friendly error message. Test your program by entering two numbers and then by entering some text instead of a number."
   ]
  },
  {
   "cell_type": "code",
   "execution_count": 6,
   "id": "48c488e1",
   "metadata": {},
   "outputs": [
    {
     "name": "stdout",
     "output_type": "stream",
     "text": [
      "Please enter a number: \n",
      "1\n",
      "Please enter another number: \n",
      "two\n",
      "Sorry, you need to enter a number.\n"
     ]
    }
   ],
   "source": [
    "num1 = input(\"Please enter a number: \\n\")\n",
    "num2 = input(\"Please enter another number: \\n\")\n",
    "\n",
    "try: \n",
    "    my_sum = int(num1) + int(num2)\n",
    "except ValueError:\n",
    "    print(\"Sorry, you need to enter a number.\")\n",
    "else:\n",
    "    print(f\"The sum is: {my_sum}\")"
   ]
  },
  {
   "cell_type": "markdown",
   "id": "dd5fe5b7",
   "metadata": {},
   "source": [
    "**10-7. Addition Calculator:** Wrap your code from the exercise above in a `while` loop so the user can continue entering numbers even if they make a mistake and enter etext instead of a number."
   ]
  },
  {
   "cell_type": "code",
   "execution_count": 7,
   "id": "9eacb081",
   "metadata": {},
   "outputs": [
    {
     "name": "stdout",
     "output_type": "stream",
     "text": [
      "Please enter a number: \n",
      "1\n",
      "Please enter another number: \n",
      "two\n",
      "Sorry, you need to enter a number. \n",
      "\n",
      "Please enter a number: \n",
      "1\n",
      "Please enter another number: \n",
      "2\n",
      "The sum is: 3 \n",
      "\n",
      "Please enter a number: \n",
      "q\n"
     ]
    }
   ],
   "source": [
    "while True:\n",
    "    num1 = input(\"Please enter a number: \\n\")   \n",
    "    if num1 == 'q':\n",
    "        break    \n",
    "    num2 = input(\"Please enter another number: \\n\")\n",
    "    if num2 == 'q':\n",
    "        break\n",
    "        \n",
    "    try: \n",
    "        my_sum = int(num1) + int(num2)\n",
    "    except ValueError:\n",
    "        print(\"Sorry, you need to enter a number. \\n\")\n",
    "    else:\n",
    "        print(f\"The sum is: {my_sum} \\n\")"
   ]
  },
  {
   "cell_type": "markdown",
   "id": "8cad91b0",
   "metadata": {},
   "source": [
    "**10-8. Cats and Dogs:** Make two files, *cats.txt* and *dogs.txt*. Store at least three names of cats in the first file and three names of dogs in the second file. Write a program that tries to read these files and print the contents of the file to the screen. Wrap your code in a `try-except` block to catch the `FileNotFound` error, and print a frendly message if a file is missing. Move one of the files to a different location on your system, and make sure the code in the except block executes properly."
   ]
  },
  {
   "cell_type": "code",
   "execution_count": 8,
   "id": "3374ac82",
   "metadata": {},
   "outputs": [
    {
     "name": "stdout",
     "output_type": "stream",
     "text": [
      "Charlie\n",
      "Miku\n",
      "George\n",
      "Sorry, a file is missing.\n"
     ]
    }
   ],
   "source": [
    "try:\n",
    "    with open('cats.txt', 'r') as f:\n",
    "        cats = f.read()\n",
    "        print(cats)\n",
    "    with open('dogs.txt', 'r') as f:\n",
    "        dogs = f.read()\n",
    "        print(dogs)\n",
    "except FileNotFoundError:\n",
    "    print(\"Sorry, a file is missing.\")"
   ]
  },
  {
   "cell_type": "markdown",
   "id": "153d1cf1",
   "metadata": {},
   "source": [
    "**10-9. Silent Cats and Dogs:** Modify the `except` block from the exercise above to fail silently if either file is missing."
   ]
  },
  {
   "cell_type": "code",
   "execution_count": 9,
   "id": "76781717",
   "metadata": {},
   "outputs": [
    {
     "name": "stdout",
     "output_type": "stream",
     "text": [
      "Charlie\n",
      "Miku\n",
      "George\n",
      "\n"
     ]
    }
   ],
   "source": [
    "try:\n",
    "    with open('cats.txt', 'r') as f:\n",
    "        cats = f.read()\n",
    "        print(cats)\n",
    "    with open('dogs.txt', 'r') as f:\n",
    "        dogs = f.read()\n",
    "        print(dogs)\n",
    "except FileNotFoundError:\n",
    "    None"
   ]
  },
  {
   "cell_type": "markdown",
   "id": "ee60e438",
   "metadata": {},
   "source": [
    "**10-10. Common Words:** Visit Project Gutenberg (https://gutenberg.org/) and download a text file of a work you like (you can copy the raw text from the browser into a textfile). \n",
    "You can use the `count()` method to find out how many times a word or phrase appears in a string. For example, the following code counts the number of times 'row' appears in a string:\n",
    "\n",
    "    >>> line = \"Row, row, row your boat\"\n",
    "    >>> line.count('row')\n",
    "    2\n",
    "    >>> line.lower().count('row')\n",
    "    3\n",
    "\n",
    "Notice that converting the string to lowercase using `lower()` catches all appearances of the word you're looking for, regardless of how it's formatted.\n",
    "\n",
    "Write a program that reads the file you found at Project Gutenberg and determines how many times the word 'the' appears in the text. This will be an approximation because it will also count words such as 'then' and 'there'. Try counting 'the ' with a space in the string, and see how much lower your count is."
   ]
  },
  {
   "cell_type": "code",
   "execution_count": 10,
   "id": "f857fac7",
   "metadata": {},
   "outputs": [
    {
     "name": "stdout",
     "output_type": "stream",
     "text": [
      "1695\n"
     ]
    }
   ],
   "source": [
    "with open('alice.txt', 'r', encoding='utf-8') as f:\n",
    "    text = f.read()\n",
    "    print(text.lower().count('the '))"
   ]
  },
  {
   "cell_type": "markdown",
   "id": "683c0983",
   "metadata": {},
   "source": [
    "**10-11. Favorite Number:** Write a program that prompts the for the user's favorite number. Use `json.dump()` to store this number in a file. Write a separate program that reads in this value and prints the message, \"I know your favorite number! It's ____.\""
   ]
  },
  {
   "cell_type": "code",
   "execution_count": 11,
   "id": "3c3172e6",
   "metadata": {},
   "outputs": [
    {
     "name": "stdout",
     "output_type": "stream",
     "text": [
      "Please type in your favorite number: \n",
      "21\n"
     ]
    }
   ],
   "source": [
    "# prompt for a favorite number\n",
    "import json\n",
    "\n",
    "num = input(\"Please type in your favorite number: \\n\")\n",
    "\n",
    "with open('favorite_number.txt', 'w') as f:\n",
    "    json.dump(num, f)"
   ]
  },
  {
   "cell_type": "code",
   "execution_count": 12,
   "id": "64a1d450",
   "metadata": {},
   "outputs": [
    {
     "name": "stdout",
     "output_type": "stream",
     "text": [
      "I know you favorite number! It's 21.\n"
     ]
    }
   ],
   "source": [
    "# display the stored favorite number\n",
    "with open('favorite_number.txt', 'r') as f:\n",
    "    fav_num = json.load(f)\n",
    "    print(f\"I know you favorite number! It's {fav_num}.\")"
   ]
  },
  {
   "cell_type": "markdown",
   "id": "9e37926c",
   "metadata": {},
   "source": [
    "**10-12. Favorite Number Remembered:** Combine the two programs for the exercise above into a single program. If the number is already stored, report the favorite number to the user. If not, prompt for the users' favorite number and store it in a file. Run the program twice to see that it works."
   ]
  },
  {
   "cell_type": "code",
   "execution_count": 13,
   "id": "6876624d",
   "metadata": {},
   "outputs": [
    {
     "name": "stdout",
     "output_type": "stream",
     "text": [
      "I know you favorite number! It's 21.\n"
     ]
    }
   ],
   "source": [
    "import json\n",
    "\n",
    "try: \n",
    "    with open('favorite_number.txt', 'r') as f:\n",
    "        fav_num = json.load(f)\n",
    "        print(f\"I know you favorite number! It's {fav_num}.\")\n",
    "except FileNotFoundError:   \n",
    "    num = input(\"Please type in your favorite number: \\n\")\n",
    "\n",
    "    with open('favorite_number.txt', 'w') as f:\n",
    "        json.dump(num, f)"
   ]
  },
  {
   "cell_type": "markdown",
   "id": "a92e4490",
   "metadata": {},
   "source": [
    "**10-13. Verify User:** The final listing for *remember_me.py* assumes either that the user has already entered their username or that the program is running for the first time. We should modify it in case the current user is not the person who last used the program. \n",
    "\n",
    "Before printing a welcome back message in `greet_user()`, ask the user if this is the correct username. If it's not, call `get_new_username()` to get the correct username."
   ]
  },
  {
   "cell_type": "code",
   "execution_count": 14,
   "id": "6f38c99b",
   "metadata": {},
   "outputs": [
    {
     "name": "stdout",
     "output_type": "stream",
     "text": [
      "Is this the correct username (yes or no)? Andrew Bernas \n",
      "yes\n",
      "Welcome back, Andrew Bernas!\n"
     ]
    }
   ],
   "source": [
    "from pathlib import Path\n",
    "import json\n",
    "\n",
    "def get_stored_username(path):\n",
    "    \"\"\"Get stored username if available.\"\"\"\n",
    "    if path.exists():\n",
    "        contents = path.read_text()\n",
    "        username = json.loads(contents)\n",
    "        return username\n",
    "    else:\n",
    "        return None\n",
    "\n",
    "def get_new_username(path):\n",
    "    \"\"\"Prompt for a new username.\"\"\"\n",
    "    username = input(\"What is your name? \")\n",
    "    contents = json.dumps(username)\n",
    "    path.write_text(contents)\n",
    "    return username\n",
    "\n",
    "def greet_user():\n",
    "    \"\"\"Greet the user by name.\"\"\"\n",
    "    path = Path('username.json')\n",
    "    username = get_stored_username(path)\n",
    "    \n",
    "    if not username:\n",
    "        username = get_new_username(path)\n",
    "        print(f\"We'll remember you when you come back, {username}!\")\n",
    "        return None\n",
    "        \n",
    "    correct = input(f\"Is this the correct username (yes or no)? {username} \\n\")\n",
    "    if correct == 'yes':\n",
    "        print(f\"Welcome back, {username}!\")\n",
    "    else:\n",
    "        username = get_new_username(path)\n",
    "        print(f\"We'll remember you when you come back, {username}!\")\n",
    "\n",
    "greet_user()"
   ]
  },
  {
   "cell_type": "code",
   "execution_count": null,
   "id": "5a82484b",
   "metadata": {},
   "outputs": [],
   "source": []
  }
 ],
 "metadata": {
  "kernelspec": {
   "display_name": "Python 3 (ipykernel)",
   "language": "python",
   "name": "python3"
  },
  "language_info": {
   "codemirror_mode": {
    "name": "ipython",
    "version": 3
   },
   "file_extension": ".py",
   "mimetype": "text/x-python",
   "name": "python",
   "nbconvert_exporter": "python",
   "pygments_lexer": "ipython3",
   "version": "3.11.4"
  }
 },
 "nbformat": 4,
 "nbformat_minor": 5
}
